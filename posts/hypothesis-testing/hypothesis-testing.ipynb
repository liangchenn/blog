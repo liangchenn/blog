{
 "cells": [
  {
   "cell_type": "raw",
   "id": "9edb8712",
   "metadata": {},
   "source": [
    "---\n",
    "title: \"Hypothesis Testing\"\n",
    "author: \"Liang-Cheng Chen\"\n",
    "date: \"2023-08-03\"\n",
    "categories: [statistics, note]\n",
    "image: \"dist.png\"\n",
    "---"
   ]
  },
  {
   "cell_type": "markdown",
   "id": "1e31f57c-ee68-40f2-b75d-0057197f030c",
   "metadata": {},
   "source": [
    "# Hypothesis Testing\n",
    "\n",
    "- A frequentist method to make statistical inference \n",
    "\n",
    "- Concepts:\n",
    "    - want to know how extreme our observed data is based on the belief\n",
    "    - if the probability of having data more extreme than current data is very small, then we could say the belief may not be correct\n",
    "\n",
    "\n",
    "\n",
    "- Building blocks\n",
    "    - belief: null hypothesis\n",
    "    - level of extreme: limiting distribution \n",
    "    - probability of having data more extreme: p-value"
   ]
  },
  {
   "cell_type": "markdown",
   "id": "1c8a159c-39b3-4f7e-9242-91599ff29180",
   "metadata": {},
   "source": [
    "## Data\n",
    "\n",
    "Now we could generate random samples to illustrate above concepts.\n",
    "\n",
    "First use the i.i.d random sample from binomial distribution.\n"
   ]
  },
  {
   "cell_type": "code",
   "execution_count": 1,
   "id": "dc298a56-7233-4091-be1b-8a21c8de6a25",
   "metadata": {
    "tags": []
   },
   "outputs": [],
   "source": [
    "import numpy as np\n",
    "\n",
    "import matplotlib.pyplot as plt\n",
    "import seaborn as sns"
   ]
  },
  {
   "cell_type": "code",
   "execution_count": 2,
   "id": "3b76fb17-d955-41ba-a398-272228abbbe1",
   "metadata": {
    "tags": []
   },
   "outputs": [],
   "source": [
    "# binomial setups\n",
    "p = 0.05\n",
    "size = 1000\n",
    "\n",
    "# random sample\n",
    "samples = np.random.binomial(n=1, p=p, size=size)"
   ]
  },
  {
   "cell_type": "markdown",
   "id": "e96ede04-4b4e-42a9-a385-30b83deff5d9",
   "metadata": {
    "tags": []
   },
   "source": [
    "Theoratically, the variance of a binomial distribution will follow:  \n",
    "$Var(X) = p \\cdot (1-p)$"
   ]
  },
  {
   "cell_type": "code",
   "execution_count": 3,
   "id": "b461da65-a018-4655-9d3f-71517872c43b",
   "metadata": {
    "tags": []
   },
   "outputs": [
    {
     "name": "stdout",
     "output_type": "stream",
     "text": [
      "Theoratical value: 0.0475\n",
      "Empirical   value: 0.041150999999999986\n"
     ]
    }
   ],
   "source": [
    "print(f\"Theoratical value: {p * (1-p)}\")\n",
    "print(f\"Empirical   value: {samples.var()}\")"
   ]
  },
  {
   "cell_type": "markdown",
   "id": "2af4e373-3281-4a0b-8d2f-99cd3dfaad69",
   "metadata": {},
   "source": [
    "## Limiting Distribution\n",
    "\n",
    "We could obtain the limiting distribution mathematically.\n",
    "\n",
    "Goes from sampling distribution (the distribution of statistic);\n",
    "\n",
    "To the limiting distribution (the distribution when size goes to infinitely large)"
   ]
  },
  {
   "cell_type": "markdown",
   "id": "dc2e6e79-9e0e-4d47-8f9e-b1de2b5b35b0",
   "metadata": {},
   "source": [
    "### Sampling Distribution\n",
    "\n",
    "For random sample $X_i \\sim (\\mu, \\sigma^2)$\n",
    "\n",
    "the sampled mean will be $\\bar{X_n} = \\frac{\\sum_i X_i}{n}$, where $n$ is the size of sample\n",
    "\n",
    "Then we will know that:\n",
    "\n",
    "- $E[\\bar X_n] = \\frac{1}{n} \\cdot n \\cdot E[X_i] = \\mu$\n",
    "\n",
    "- $Var(\\bar X_n) = \\frac{1}{n^2} \\cdot n \\cdot Var(X_i) = \\frac{\\sigma^2}{n}$\n",
    "\n",
    "The sampling distribution of sampled mean will be $\\bar X_n \\sim (\\mu, \\frac{\\sigma^2}{n})$"
   ]
  },
  {
   "cell_type": "markdown",
   "id": "5d04a065-5ee4-4bff-80d7-0666b84870f0",
   "metadata": {},
   "source": [
    "### Asymptotic Property\n",
    "\n",
    "By the C.L.T, we know that:\n",
    "\n",
    "As $n \\rightarrow \\infty$, $\\bar X_n \\sim^d N(\\mu, \\frac{\\sigma^2}{n})$"
   ]
  },
  {
   "cell_type": "markdown",
   "id": "ca5a3a37-3ebd-4d4b-a25d-66d529e0ea65",
   "metadata": {},
   "source": [
    "## How could we understand it empirically?\n",
    "\n",
    "Empirically, it is like you repeat the random draw over and over agian,\n",
    "and collect the mean each time. (bootstrapping method)\n",
    "\n",
    "The histogram of the means will be the sampling distribution."
   ]
  },
  {
   "cell_type": "code",
   "execution_count": 4,
   "id": "567c9942-88bb-4f9e-b44a-9e9d6f0255b5",
   "metadata": {
    "tags": []
   },
   "outputs": [],
   "source": [
    "# simulate the random draws for 500 times\n",
    "\n",
    "n_simulation = 500\n",
    "bootstrap_sampled_mean = np.zeros(n_simulation)\n",
    "\n",
    "for i in range(n_simulation):\n",
    "    \n",
    "    bootstrap_samples = np.random.choice(samples, size=len(samples), replace=True)\n",
    "    \n",
    "    bootstrap_sampled_mean[i] = bootstrap_samples.mean()"
   ]
  },
  {
   "cell_type": "code",
   "execution_count": 5,
   "id": "07d2c5e7-fe24-4162-93db-fc8651418c14",
   "metadata": {
    "tags": []
   },
   "outputs": [
    {
     "data": {
      "image/png": "[encoded data removed]",
      "text/plain": [
       "<Figure size 432x288 with 1 Axes>"
      ]
     },
     "metadata": {
      "needs_background": "light"
     },
     "output_type": "display_data"
    }
   ],
   "source": [
    "sns.histplot(bootstrap_sampled_mean, stat='probability')\n",
    "plt.title(fr\"Sampling Distribution for $\\bar X_n$, N={len(samples)}\")\n",
    "plt.show()"
   ]
  },
  {
   "cell_type": "markdown",
   "id": "5d910e66-6549-47a9-8913-d7660e4d25b0",
   "metadata": {},
   "source": [
    "Add the PDF for the empirical and theoratical distribution"
   ]
  },
  {
   "cell_type": "code",
   "execution_count": 6,
   "id": "eee292f8-3e23-4da7-a283-fccad9b6b5b5",
   "metadata": {
    "tags": []
   },
   "outputs": [],
   "source": [
    "from scipy.stats import norm"
   ]
  },
  {
   "cell_type": "code",
   "execution_count": 7,
   "id": "9ebebdcb-3afc-4a9a-9da5-9363bd6eb10b",
   "metadata": {
    "tags": []
   },
   "outputs": [],
   "source": [
    "smean = samples.mean()\n",
    "svar = samples.var() / len(samples)\n",
    "sstd = np.sqrt(svar)"
   ]
  },
  {
   "cell_type": "code",
   "execution_count": 8,
   "id": "5078de43-2cfd-4129-a89f-6d7aaf71466e",
   "metadata": {
    "tags": []
   },
   "outputs": [
    {
     "data": {
      "image/png": "[encoded data removed]",
      "text/plain": [
       "<Figure size 432x288 with 1 Axes>"
      ]
     },
     "metadata": {
      "needs_background": "light"
     },
     "output_type": "display_data"
    }
   ],
   "source": [
    "sns.kdeplot(bootstrap_sampled_mean, label='empirical', color='salmon')\n",
    "sns.lineplot(\n",
    "    x=(x := np.linspace(min(bootstrap_sampled_mean), max(bootstrap_sampled_mean))), \n",
    "    y=norm.pdf(x, loc=smean, scale=sstd),\n",
    "    color='skyblue',\n",
    "    label='theoratical'\n",
    ")\n",
    "plt.title(fr\"PDF for $\\bar X_n$, N={len(samples)}\")\n",
    "plt.legend()\n",
    "plt.show()"
   ]
  },
  {
   "cell_type": "markdown",
   "id": "bb515c00-5bdf-4c41-ad6f-136b92fddc1b",
   "metadata": {},
   "source": [
    "## Hypothesis Testing\n",
    "\n",
    "Now suppose we want to know if the mean is $p = 0.075$\n",
    "\n",
    "We construct the belief, the null hypothesis, $H_0: p = 0.075$\n",
    "\n",
    "Given the null hypothesis is true we construct the theoratical distribution for sampled mean."
   ]
  },
  {
   "cell_type": "code",
   "execution_count": 9,
   "id": "3a060352-4534-4e6b-b346-ee546e63c2a2",
   "metadata": {
    "tags": []
   },
   "outputs": [],
   "source": [
    "true_mean = 0.065\n",
    "true_se = np.sqrt(true_mean * (1-true_mean) / size)"
   ]
  },
  {
   "cell_type": "code",
   "execution_count": 10,
   "id": "733477f6-3f18-4729-9902-09aa5329f515",
   "metadata": {
    "tags": []
   },
   "outputs": [],
   "source": [
    "x = np.linspace(true_mean - 4 * true_se, true_mean + 4 * true_se)\n",
    "y = norm.pdf(x, loc=true_mean, scale=true_se)\n",
    "\n",
    "x_fill = np.linspace(true_mean - 4 * true_se, samples.mean())\n",
    "y_fill = norm.pdf(x_fill, loc=true_mean, scale=true_se)"
   ]
  },
  {
   "cell_type": "code",
   "execution_count": 11,
   "id": "744c1f1b-08dc-4013-8f06-79114f775eba",
   "metadata": {
    "tags": []
   },
   "outputs": [
    {
     "data": {
      "image/png": "[encoded data removed]",
      "text/plain": [
       "<Figure size 432x288 with 1 Axes>"
      ]
     },
     "metadata": {
      "needs_background": "light"
     },
     "output_type": "display_data"
    }
   ],
   "source": [
    "sns.lineplot(x=x, y=y, label='theoratical')\n",
    "plt.axvline(x=samples.mean(), linestyle='-', color='salmon', label='observed mean')\n",
    "plt.axvline(x=true_mean, color='lightgray', label='H0 mean')\n",
    "plt.fill_between(x_fill, y_fill, color='skyblue', alpha=0.3, label='extreme prob.')\n",
    "\n",
    "plt.title(r\"$\\bar X_n$ Sampling Dist. | H0\")\n",
    "plt.legend()\n",
    "plt.show()"
   ]
  },
  {
   "cell_type": "markdown",
   "id": "05b42994-1bdc-4a11-bd69-bef36edadb62",
   "metadata": {},
   "source": [
    "The shaded area is the probability of observing a realized sample mean more extreme than the current one, which is the p-value.\n",
    "\n",
    "The smaller it gets, the more likely the null hypothesis to be false.\n",
    "Then we could set a conventional threshold (e.g. 5%), then use the threshold to reject the H0."
   ]
  },
  {
   "cell_type": "markdown",
   "id": "97569b95-b54e-46db-a465-1e74f0d5a917",
   "metadata": {},
   "source": [
    "We use conventional 5% threshold.\n",
    "For two-sided test, it will be 2.5% for each side.\n",
    "\n",
    "Now we could obtain the probability $Pr(X <= observed\\_mean | H0)$"
   ]
  },
  {
   "cell_type": "code",
   "execution_count": 12,
   "id": "eb397295-9079-40f1-914c-1126eb07ba84",
   "metadata": {
    "tags": []
   },
   "outputs": [],
   "source": [
    "pvalue = norm.cdf(samples.mean(), loc=true_mean, scale=true_se)"
   ]
  },
  {
   "cell_type": "code",
   "execution_count": 13,
   "id": "613bb75e-35f0-49d2-8c9f-4a30609cc466",
   "metadata": {
    "tags": []
   },
   "outputs": [
    {
     "name": "stdout",
     "output_type": "stream",
     "text": [
      "The p-value is: 0.0024\n",
      "Result: Reject H0\n"
     ]
    }
   ],
   "source": [
    "print(f\"The p-value is: {pvalue:.4f}\")\n",
    "\n",
    "if pvalue <= 0.025:\n",
    "    print(f\"Result: Reject H0\")\n",
    "else:\n",
    "    print(f\"Result: Could not reject H0\")"
   ]
  },
  {
   "cell_type": "code",
   "execution_count": null,
   "id": "c43b008a-64a2-44fd-a52c-3ae3654306f1",
   "metadata": {},
   "outputs": [],
   "source": []
  },
  {
   "cell_type": "markdown",
   "id": "3ea02462-cba5-4168-98f6-839d61d96d18",
   "metadata": {},
   "source": [
    "### Compare to the test functions from Python modules"
   ]
  },
  {
   "cell_type": "code",
   "execution_count": 14,
   "id": "141d65d8-cd70-460d-8c57-8289f282fee5",
   "metadata": {
    "tags": []
   },
   "outputs": [],
   "source": [
    "from statsmodels.stats.proportion import proportions_ztest\n",
    "from scipy.stats import ttest_1samp\n",
    "from scipy.stats.distributions import t"
   ]
  },
  {
   "cell_type": "code",
   "execution_count": 15,
   "id": "0753bc0b-4d13-489e-87af-ee8b48572da3",
   "metadata": {
    "tags": []
   },
   "outputs": [
    {
     "data": {
      "text/plain": [
       "Ttest_1sampResult(statistic=-3.4277980568938475, pvalue=0.000633319473855572)"
      ]
     },
     "execution_count": 15,
     "metadata": {},
     "output_type": "execute_result"
    }
   ],
   "source": [
    "ttest_1samp(samples, popmean=true_mean, alternative='two-sided')"
   ]
  },
  {
   "cell_type": "code",
   "execution_count": 16,
   "id": "bf99d6f4-5967-450c-80ce-12a071a64da0",
   "metadata": {
    "tags": []
   },
   "outputs": [
    {
     "data": {
      "text/plain": [
       "(-3.429513242418691, 0.0006046649260488792)"
      ]
     },
     "execution_count": 16,
     "metadata": {},
     "output_type": "execute_result"
    }
   ],
   "source": [
    "proportions_ztest(samples.sum(), len(samples), value=true_mean, alternative='two-sided')"
   ]
  }
 ],
 "metadata": {
  "kernelspec": {
   "display_name": "Python 3 (ipykernel)",
   "language": "python",
   "name": "python3"
  },
  "language_info": {
   "codemirror_mode": {
    "name": "ipython",
    "version": 3
   },
   "file_extension": ".py",
   "mimetype": "text/x-python",
   "name": "python",
   "nbconvert_exporter": "python",
   "pygments_lexer": "ipython3",
   "version": "3.8.11"
  }
 },
 "nbformat": 4,
 "nbformat_minor": 5
}
